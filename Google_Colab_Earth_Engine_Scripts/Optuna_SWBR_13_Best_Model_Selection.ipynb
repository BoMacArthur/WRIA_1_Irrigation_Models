{
  "nbformat": 4,
  "nbformat_minor": 0,
  "metadata": {
    "colab": {
      "provenance": [],
      "mount_file_id": "1RNo4Hovv3Ovl5-mbM7CvDiVbcUKT5GgZ",
      "authorship_tag": "ABX9TyNJBfv6SOBAbYpyg5q4NLPY",
      "include_colab_link": true
    },
    "kernelspec": {
      "name": "python3",
      "display_name": "Python 3"
    },
    "language_info": {
      "name": "python"
    }
  },
  "cells": [
    {
      "cell_type": "markdown",
      "metadata": {
        "id": "view-in-github",
        "colab_type": "text"
      },
      "source": [
        "<a href=\"https://colab.research.google.com/github/BoMacArthur/WRIA_1_Irrigation_Models/blob/main/Google_Colab_Earth_Engine_Scripts/Optuna_SWBR_13_Best_Model_Selection.ipynb\" target=\"_parent\"><img src=\"https://colab.research.google.com/assets/colab-badge.svg\" alt=\"Open In Colab\"/></a>"
      ]
    },
    {
      "cell_type": "code",
      "source": [
        "! pip install optuna"
      ],
      "metadata": {
        "collapsed": true,
        "id": "Zt04Fy88pOHi"
      },
      "execution_count": null,
      "outputs": []
    },
    {
      "cell_type": "code",
      "execution_count": null,
      "metadata": {
        "id": "JkinXbOLJIs1"
      },
      "outputs": [],
      "source": [
        "import ee\n",
        "import geemap\n",
        "import optuna\n",
        "import plotly\n",
        "from plotly.subplots import make_subplots\n",
        "import plotly.graph_objects as go\n",
        "import pickle\n",
        "from google.colab import output\n",
        "import time"
      ]
    },
    {
      "cell_type": "code",
      "source": [
        "cloud_project = 'ee-bomacarthur'\n",
        "\n",
        "try:\n",
        "  ee.Initialize(project=cloud_project)\n",
        "except:\n",
        "  ee.Authenticate()\n",
        "  ee.Initialize(project=cloud_project)\n"
      ],
      "metadata": {
        "id": "gwD4fSGVpEyX"
      },
      "execution_count": null,
      "outputs": []
    },
    {
      "cell_type": "code",
      "source": [
        "m = geemap.Map(width=800)\n",
        "m"
      ],
      "metadata": {
        "collapsed": true,
        "id": "X8PRIE4twicD"
      },
      "execution_count": null,
      "outputs": []
    },
    {
      "cell_type": "code",
      "source": [
        "# Bring in the water balance model from Google Earth Engine\n",
        "# Load datasets\n",
        "fields = ee.FeatureCollection(\"projects/ee-bomacarthur/assets/Test_Fields/validationFields\")\n",
        "etAndPrcpCol = ee.FeatureCollection(\"projects/ee-bomacarthur/assets/etAndPrcp\")\n",
        "\n",
        "# Sort the et and prcp collection by date\n",
        "et_and_prcp = etAndPrcpCol.sort('system:time_start')\n",
        "\n",
        "# Count number of fields\n",
        "size = fields.size()\n",
        "\n",
        "# Define the optimization function\n",
        "def water_balance_model(precip_const_1, precip_const_2, precip_const_3, precip_const_4, precip_const_5, precip_const_6,\n",
        "                              precip_const_7, precip_const_8, precip_const_9, precip_const_10, precip_const_11, precip_const_12, residual_const):\n",
        "\n",
        "    # X_Constants\n",
        "    x_constants = ee.FeatureCollection(\n",
        "        [ee.Feature(None, {'month': 1,  'precipConst': precip_const_1}),\n",
        "         ee.Feature(None, {'month': 2,  'precipConst': precip_const_2}),\n",
        "         ee.Feature(None, {'month': 3,  'precipConst': precip_const_3}),\n",
        "         ee.Feature(None, {'month': 4,  'precipConst': precip_const_4}),\n",
        "         ee.Feature(None, {'month': 5,  'precipConst': precip_const_5}),\n",
        "         ee.Feature(None, {'month': 6,  'precipConst': precip_const_6}),\n",
        "         ee.Feature(None, {'month': 7,  'precipConst': precip_const_7}),\n",
        "         ee.Feature(None, {'month': 8,  'precipConst': precip_const_8}),\n",
        "         ee.Feature(None, {'month': 9,  'precipConst': precip_const_9}),\n",
        "         ee.Feature(None, {'month': 10, 'precipConst': precip_const_10}),\n",
        "         ee.Feature(None, {'month': 11, 'precipConst': precip_const_11}),\n",
        "         ee.Feature(None, {'month': 12, 'precipConst': precip_const_12})\n",
        "        ]\n",
        "    );\n",
        "\n",
        "    # Y_Constant\n",
        "    y_constant = residual_const\n",
        "\n",
        "    # Create a function to calculate monthly Water Balance = P(x) - ET\n",
        "    def calculate_water_balance(image):\n",
        "        month = image.date().get('month')\n",
        "        x_value = x_constants.filter(ee.Filter.eq('month', month)).first().getNumber('precipConst')\n",
        "        precip_effective = image.select('P').multiply(x_value).rename('Peff')\n",
        "        calculate_water_balance = precip_effective.subtract(image.select('ETa')).rename('wb')\n",
        "        return image.addBands(precip_effective).addBands(calculate_water_balance).copyProperties(image, image.propertyNames())\n",
        "\n",
        "    water_balance = ee.ImageCollection(et_and_prcp.filterDate('2011-01-01', '2024-01-01')).map(calculate_water_balance)\n",
        "\n",
        "    # Manually add constant 0 'wbAdjusted' band to first image from Dec 2010\n",
        "    et_and_prcp_first = ee.Image(et_and_prcp.filterDate('2010-12-01', '2011-01-01').first())\n",
        "    first_x_value = x_constants.filter(ee.Filter.eq('month', 12)).first().getNumber('precipConst')\n",
        "    wb_first = et_and_prcp_first.addBands(et_and_prcp_first.select('P').multiply(first_x_value) \\\n",
        "                                .subtract(et_and_prcp_first.select('ETa')).rename('wb'))\n",
        "    first_image = wb_first.addBands(wb_first.select('wb').where(wb_first.select('wb').lt(0), 0).rename('wbRadj'))\n",
        "\n",
        "    # Add stored water from previous month to create monthly adjusted water balance\n",
        "    def add_residuals_function(current, previous):\n",
        "        previous_image = ee.Image(ee.List(previous).get(-1))\n",
        "        current_image = ee.Image(current)\n",
        "        month = current_image.date().get('month')\n",
        "        y_value = y_constant\n",
        "        residual_prev_mon = previous_image.select('wbRadj').rename('wbRn1')\n",
        "        residual_ratio_prev_mon = residual_prev_mon.multiply(ee.Image.constant(y_value)).rename('wbRn1Adj')\n",
        "        wb_residual_cur_mon = current_image.select('wb').where(current_image.select('wb').lt(0), 0).unmask().rename('wbR')\n",
        "        wb_adjusted = current_image.select('wb').add(residual_ratio_prev_mon).rename('wbA')\n",
        "        residual_adjusted_cur_mon = wb_adjusted.select('wbA').where(wb_adjusted.select('wbA').lt(0), 0).unmask().rename('wbRadj')\n",
        "\n",
        "        updated_image = current_image.addBands(residual_prev_mon).addBands(residual_ratio_prev_mon) \\\n",
        "                                     .addBands(wb_residual_cur_mon).addBands(wb_adjusted).addBands(residual_adjusted_cur_mon) \\\n",
        "                                     .copyProperties(current_image, current_image.propertyNames())\n",
        "\n",
        "        return ee.List(previous).add(updated_image)\n",
        "    # Iterate the residual function over the water balance image collection\n",
        "    initial_list = ee.List([first_image])\n",
        "    add_residuals = ee.ImageCollection.fromImages(water_balance.iterate(add_residuals_function, initial_list))\n",
        "\n",
        "    # Calculate Zonal Stats for test field polygons\n",
        "    def calculate_zonal_stats(image3):\n",
        "        image_date_start = image3.date()\n",
        "        image_date_end = image_date_start.advance(1, 'month')\n",
        "        fields_filtered = fields.filterDate(image_date_start, image_date_end)\n",
        "        zonal_stats = image3.reduceRegions(**{\n",
        "            'collection': fields_filtered,\n",
        "            'reducer': ee.Reducer.mean(),\n",
        "            'scale': 30,\n",
        "            'crs': 'EPSG:32610',\n",
        "            'tileScale': 16\n",
        "        })\n",
        "        return zonal_stats.map(lambda feature: feature.select(['area', 'endDate', 'ETa', 'groupNumber', 'precipitation', 'precipEffective',\n",
        "                                                             'startDate', 'system:time_end', 'system:time_start', 'wb', 'wbA', 'wbR', 'wbRn1', 'wbRadj',\n",
        "                                                             'wbRn1Adj', 'waterMeterDepth', 'waterMeterVolume']))\n",
        "\n",
        "    zonal_stats = ee.FeatureCollection(add_residuals.filterDate('2011-01-01', '2024-01-01').map(calculate_zonal_stats)).flatten()\n",
        "\n",
        "    # Calculate Model Water Volume\n",
        "\n",
        "    # Filter feature collection for two cases, wbA > 0 and wbA < 0\n",
        "    non_zero_irrigation = zonal_stats.filter(ee.Filter.lt('wbA', 0))\n",
        "    zero_irrigation = zonal_stats.filter(ee.Filter.gte('wbA', 0))\n",
        "\n",
        "    # Fields with positive irrigation wbA < 0\n",
        "    non_zero_irrigation_col = non_zero_irrigation.map(lambda feature: feature.set({\n",
        "        'ETi': feature.getNumber('wbA').abs(),\n",
        "        'waterModelDepth': feature.getNumber('wbA').abs()\n",
        "    }).select(['area', 'endDate', 'ETa', 'ETi', 'groupNumber', 'precipitation', 'precipEffective',\n",
        "               'startDate', 'system:time_end', 'system:time_start', 'wb', 'wbA', 'wbR', 'wbRn1', 'wbRadj',\n",
        "               'wbRn1Adj', 'waterMeterDepth', 'waterMeterVolume', 'waterModelDepth']))\n",
        "\n",
        "    # Fields with zero irrigation wbA >= 0\n",
        "    zero_irrigation_col = zero_irrigation.map(lambda feature: feature.set({\n",
        "        'ETi': 0,\n",
        "        'waterModelDepth': 0\n",
        "    }).select(['area', 'endDate', 'ETa', 'ETi', 'groupNumber', 'precipitation', 'precipEffective',\n",
        "               'startDate', 'system:time_end', 'system:time_start', 'wb', 'wbA', 'wbR', 'wbRn1', 'wbRadj',\n",
        "               'wbRn1Adj', 'waterMeterDepth', 'waterMeterVolume', 'waterModelDepth']))\n",
        "    # Merge feature Collections\n",
        "    merged_collection = ee.FeatureCollection([non_zero_irrigation_col, zero_irrigation_col]).flatten().sort('system:time_start')\n",
        "\n",
        "    # Calculate Model Minus Meter (Predicted - observed)\n",
        "    test_results = merged_collection.map(lambda feature: feature.set({\n",
        "        'meterMinusModelDepth': feature.getNumber('waterMeterDepth').subtract(feature.getNumber('waterModelDepth')),\n",
        "        'meterMinusModelDepthAbs': feature.getNumber('waterMeterDepth').subtract(feature.getNumber('waterModelDepth')).abs()\n",
        "    }).copyProperties(feature))\n",
        "\n",
        "    # Calculate Mean Absolute Error of Depth\n",
        "    mae = test_results.reduceColumns(**{\n",
        "        'reducer': ee.Reducer.sum(),\n",
        "        'selectors': ['meterMinusModelDepthAbs']\n",
        "    }).getNumber('sum').divide(size)\n",
        "\n",
        "    return mae"
      ],
      "metadata": {
        "id": "CjxE2OGd3eYw"
      },
      "execution_count": null,
      "outputs": []
    },
    {
      "cell_type": "code",
      "source": [
        "from google.colab import drive\n",
        "drive.mount('/content/drive')"
      ],
      "metadata": {
        "id": "bYXr1uqO5s5R"
      },
      "execution_count": null,
      "outputs": []
    },
    {
      "cell_type": "code",
      "source": [
        "# import the study object from google Drive\n",
        "with open('/content/drive/My Drive/WaterBalanceTestResults/XY_static/optuna_optimization_x_y_static_no_outliers_1000.pkl', 'rb') as f:\n",
        "    study_x_y_static_no_outliers_1000 = pickle.load(f)"
      ],
      "metadata": {
        "id": "0SVKsPHfDr8y"
      },
      "execution_count": null,
      "outputs": []
    },
    {
      "cell_type": "code",
      "source": [
        "# Sort trials by value and get all trials within 1% of the best trial\n",
        "top_trials = sorted(study_x_y_static_no_outliers_1000.trials, key=lambda t: t.value)[:225]\n",
        "print(\"Trials within 1% of best trial:\")\n",
        "for trial in top_trials:\n",
        "    print(f\"Value: {trial.value}, Params: {trial.params}\")"
      ],
      "metadata": {
        "collapsed": true,
        "id": "JBFmxOqgL9LD"
      },
      "execution_count": null,
      "outputs": []
    },
    {
      "cell_type": "code",
      "source": [
        "# Create an empty list to store the results of each trial\n",
        "results = []\n",
        "\n",
        "# Loop over each trial from list of top trials\n",
        "for i, trial in enumerate(top_trials):\n",
        "    print(f\"Processing trial {i+1}/225...\")\n",
        "\n",
        "    # Dictionary of parameter values from each trial\n",
        "    params = trial.params\n",
        "    # Build a list of numerical Parametr values\n",
        "    param_list = [params[f'precip_const_{m}'] for m in range(1, 13)] + [params['residual_const']]\n",
        "\n",
        "    try:\n",
        "        # Run the Earth Engine model with parameter list as model inputs\n",
        "        earth_engine_result = water_balance_model(*param_list)\n",
        "        # Extract the numerical results of the Earth Engine model\n",
        "        mae_value = earth_engine_result.getInfo()\n",
        "\n",
        "        # Create a dictionary to merge param values with MAE result and add to empty results list\n",
        "        result_entry = {**params, 'mae': mae_value}\n",
        "        results.append(result_entry)\n",
        "\n",
        "        # Print results\n",
        "        print(f\"Trial {i+1} MAE: {mae_value}\")\n",
        "        print(f\"Params: {params}\")\n",
        "\n",
        "    # Print error message for any unsuccessful trials\n",
        "    except Exception as e:\n",
        "        print(f\"Trial {i+1} failed: {e}\")\n",
        "        results.append({**params, 'mae': None})\n",
        "\n",
        "    # Pause script for 1 second between trials\n",
        "    time.sleep(1)\n",
        "\n",
        "print(\"All trials processed.\")\n",
        "\n",
        "# Find the result with the lowest MAE\n",
        "best_result = min(results, key=lambda r: r['mae'])\n",
        "best_index = results.index(best_result)\n",
        "\n",
        "print(f\"\\nBest trial SWBR-13: (Trial #{best_index + 1}):\")\n",
        "print(f\"MAE: {best_result['mae']}\")\n",
        "print(\"Parameters:\")\n",
        "for k, v in best_result.items():\n",
        "    if k != 'mae':\n",
        "        print(f\"  {k}: {v}\")\n"
      ],
      "metadata": {
        "id": "RL4xTX_INXWq"
      },
      "execution_count": null,
      "outputs": []
    }
  ]
}