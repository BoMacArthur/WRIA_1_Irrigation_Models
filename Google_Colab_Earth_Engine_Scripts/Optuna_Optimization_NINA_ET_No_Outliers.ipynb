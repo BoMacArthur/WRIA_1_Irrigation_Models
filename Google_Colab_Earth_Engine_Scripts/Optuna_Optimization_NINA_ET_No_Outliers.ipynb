{
  "cells": [
    {
      "cell_type": "markdown",
      "metadata": {
        "id": "view-in-github",
        "colab_type": "text"
      },
      "source": [
        "<a href=\"https://colab.research.google.com/github/BoMacArthur/WRIA_1_Irrigation_Models/blob/main/Google_Colab_Earth_Engine_Scripts/Optuna_Optimization_NINA_ET_No_Outliers.ipynb\" target=\"_parent\"><img src=\"https://colab.research.google.com/assets/colab-badge.svg\" alt=\"Open In Colab\"/></a>"
      ]
    },
    {
      "cell_type": "code",
      "execution_count": null,
      "metadata": {
        "collapsed": true,
        "id": "Zt04Fy88pOHi"
      },
      "outputs": [],
      "source": [
        "! pip install optuna"
      ]
    },
    {
      "cell_type": "code",
      "execution_count": null,
      "metadata": {
        "id": "JkinXbOLJIs1"
      },
      "outputs": [],
      "source": [
        "import ee\n",
        "import geemap\n",
        "import optuna\n",
        "import plotly\n",
        "from plotly.subplots import make_subplots\n",
        "import plotly.graph_objects as go\n",
        "import pickle\n",
        "from google.colab import output\n",
        "import pandas as pd"
      ]
    },
    {
      "cell_type": "code",
      "execution_count": null,
      "metadata": {
        "collapsed": true,
        "id": "gwD4fSGVpEyX"
      },
      "outputs": [],
      "source": [
        "cloud_project = 'ee-bomacarthur'\n",
        "\n",
        "try:\n",
        "  ee.Initialize(project=cloud_project)\n",
        "except:\n",
        "  ee.Authenticate()\n",
        "  ee.Initialize(project=cloud_project)\n"
      ]
    },
    {
      "cell_type": "code",
      "execution_count": null,
      "metadata": {
        "collapsed": true,
        "id": "X8PRIE4twicD"
      },
      "outputs": [],
      "source": [
        "m = geemap.Map(width=800)\n",
        "m"
      ]
    },
    {
      "cell_type": "code",
      "execution_count": null,
      "metadata": {
        "id": "CjxE2OGd3eYw"
      },
      "outputs": [],
      "source": [
        "# Bring in the water balance model from Google Earth Engine\n",
        "# Load datasets\n",
        "fields = ee.FeatureCollection(\"projects/ee-bomacarthur/assets/Test_Fields/optimizationFields\")\n",
        "all_fields = ee.FeatureCollection(\"projects/ee-bomacarthur/assets/zonalStats/allFieldsZonalStatsEnsem\")\n",
        "etAndPrcpCol = ee.ImageCollection(\"projects/ee-bomacarthur/assets/etAndPrcp\")\n",
        "geometry = ee.Geometry.Polygon(\n",
        "    [[\n",
        "        [-122.33689842612226, 48.72511972728958],\n",
        "        [-122.33689842612226, 48.70971669597075],\n",
        "        [-122.31887398154218, 48.70971669597075],\n",
        "        [-122.31887398154218, 48.72511972728958],\n",
        "        [-122.33689842612226, 48.72511972728958]  # Close the polygon\n",
        "    ]]\n",
        ")\n",
        "\n",
        "# Sort the et and prcp collection by date\n",
        "et_and_prcp = etAndPrcpCol.sort('system:time_start')\n",
        "\n",
        "# Count number of fields\n",
        "size = fields.size()\n",
        "\n",
        "def NINA_ET_model(irr_constant):\n",
        "    # Calculate ET Zonal Stats\n",
        "    def map_et(image):\n",
        "        date = ee.Date(image.get('date'))\n",
        "        filter_fields = fields.filterDate(date, date.advance(1, 'month'))\n",
        "        property_names = fields.first().propertyNames().cat(['et'])\n",
        "        zonal_stats = image.select(['ETa']).reduceRegions(\n",
        "            collection=filter_fields,\n",
        "            reducer=ee.Reducer.mean(),\n",
        "            scale=30,\n",
        "            crs='EPSG:32610',\n",
        "            tileScale=16\n",
        "        )\n",
        "        return zonal_stats.map(lambda f: f.set('et', f.get('mean')).select(property_names))\n",
        "\n",
        "    test_fields = et_and_prcp.map(map_et).flatten()\n",
        "\n",
        "    # Filter by geometry\n",
        "    test_fields_filtered = test_fields.filter(ee.Filter.bounds(geometry).Not())\n",
        "    test_fields_sv = test_fields.filter(ee.Filter.bounds(geometry))\n",
        "    all_fields_filtered = all_fields.filter(ee.Filter.eq('Irrigation', 'None'))\n",
        "\n",
        "    # Function to find nearest fields and calculate ETi\n",
        "    def map_fields(test_feature, buffer_dist):\n",
        "        buffer = test_feature.geometry().buffer(buffer_dist)\n",
        "        start = ee.String(test_feature.get('startDate'))\n",
        "        candidates = all_fields_filtered \\\n",
        "            .filterBounds(buffer) \\\n",
        "            .filter(ee.Filter.eq('DateStart', start))\n",
        "\n",
        "        def enrich(nir_feature):\n",
        "            distance = test_feature.geometry().distance(nir_feature.geometry())\n",
        "            return nir_feature.set({\n",
        "                'distance': distance,\n",
        "                'et': nir_feature.get('et'),\n",
        "                'system:time_start': ee.Date(start).millis(),\n",
        "                'system:time_end': ee.Date(start).advance(1, 'month').millis()\n",
        "            })\n",
        "\n",
        "        nearest = candidates.map(enrich)\n",
        "        nearest_filtered = nearest.filter(ee.Filter.gt('distance', 100))\n",
        "        et_irrigated = ee.Number(test_feature.get('et'))\n",
        "        et_non_irrigated_avg = ee.Number(nearest_filtered.aggregate_mean('et'))\n",
        "        adjusted_et = et_irrigated.subtract(et_non_irrigated_avg)\n",
        "\n",
        "        return test_feature.set({\n",
        "            'closestFieldsEtAvg': et_non_irrigated_avg,\n",
        "            'numberOfClosestFields': nearest_filtered.size(),\n",
        "            'ETi': adjusted_et\n",
        "        })\n",
        "\n",
        "    test_fields_mapped = test_fields_filtered.map(lambda f: map_fields(f, 1000))\n",
        "    test_fields_mapped_sv = test_fields_sv.map(lambda f: map_fields(f, 7000))\n",
        "\n",
        "    # Merge and process ETi\n",
        "    positive_et = ee.FeatureCollection([\n",
        "        test_fields_mapped.filter(ee.Filter.gt('ETi', 0)),\n",
        "        test_fields_mapped_sv.filter(ee.Filter.gt('ETi', 0))\n",
        "    ]).flatten()\n",
        "\n",
        "    negative_et = ee.FeatureCollection([\n",
        "        test_fields_mapped.filter(ee.Filter.lte('ETi', 0)),\n",
        "        test_fields_mapped_sv.filter(ee.Filter.lte('ETi', 0))\n",
        "    ]).flatten()\n",
        "\n",
        "    # Define conversion functions\n",
        "    def model_volume_positive(feature):\n",
        "        area = ee.Number(feature.get('area'))\n",
        "        et = ee.Number(feature.get('ETi')).abs()\n",
        "        water_meter = ee.Number(feature.get('waterMeterVolume'))\n",
        "        irrigation_eff = irr_constant\n",
        "        return feature.set({\n",
        "            'waterModelVolume': et.multiply(area).divide(1000).divide(irrigation_eff),\n",
        "            'ETi': et,\n",
        "            'waterModelDepth': et.divide(irrigation_eff),\n",
        "            'waterMeterDepth': water_meter.divide(area).multiply(1000)\n",
        "        })\n",
        "\n",
        "    def model_volume_negative(feature):\n",
        "        area = ee.Number(feature.get('area'))\n",
        "        water_meter = ee.Number(feature.get('waterMeterVolume'))\n",
        "        return feature.set({\n",
        "            'waterModelVolume': 0,\n",
        "            'ETi': 0,\n",
        "            'waterModelDepth': 0,\n",
        "            'waterMeterDepth': water_meter.divide(area).multiply(1000)\n",
        "        })\n",
        "\n",
        "    positive_vol = positive_et.map(model_volume_positive)\n",
        "    negative_vol = negative_et.map(model_volume_negative)\n",
        "\n",
        "    all_results = ee.FeatureCollection([positive_vol, negative_vol]).flatten().sort('system:time_start')\n",
        "\n",
        "    # Add error columns\n",
        "    def calc_error(feature):\n",
        "        wm = ee.Number(feature.get('waterMeterVolume'))\n",
        "        mo = ee.Number(feature.get('waterModelVolume'))\n",
        "        wmd = ee.Number(feature.get('waterMeterDepth'))\n",
        "        mod = ee.Number(feature.get('waterModelDepth'))\n",
        "        return feature.set({\n",
        "            'meterMinusModelVolume': wm.subtract(mo),\n",
        "            'meterMinusModelVolumeAbs': wm.subtract(mo).abs(),\n",
        "            'meterMinusModelDepth': wmd.subtract(mod),\n",
        "            'meterMinusModelDepthAbs': wmd.subtract(mod).abs()\n",
        "        })\n",
        "\n",
        "    test_results = all_results.map(calc_error)\n",
        "\n",
        "    # MAE calculations\n",
        "    size = test_fields.size()\n",
        "\n",
        "    mae_depth = ee.Number(\n",
        "        test_results.reduceColumns(\n",
        "            reducer=ee.Reducer.sum(),\n",
        "            selectors=['meterMinusModelDepthAbs']\n",
        "        ).get('sum')\n",
        "    ).divide(size)\n",
        "\n",
        "    return mae_depth.getInfo()\n",
        "\n",
        "\n"
      ]
    },
    {
      "cell_type": "code",
      "source": [
        "# Create a loop to run the model 101 times with Irrigation efficiency values from 0 to 1 in 0.01 steps\n",
        "results = []\n",
        "\n",
        "for i in range(101):\n",
        "    irr_efficiency = i / 100  # Steps of 0.01 from 0.00 to 1.00\n",
        "    try:\n",
        "        mae = NINA_ET_model(irr_efficiency)\n",
        "        results.append({'irr_efficiency': irr_efficiency, 'mae': mae})\n",
        "        print(f\"irr_constant, {irr_efficiency:.2f}, MAE, {mae:.6f}\")\n",
        "    except Exception as e:\n",
        "        print(f\"Error at irr_efficiency={irr_efficiency:.2f}: {e}\")"
      ],
      "metadata": {
        "id": "gQe3TbOqM5ys"
      },
      "execution_count": null,
      "outputs": []
    },
    {
      "cell_type": "code",
      "execution_count": null,
      "metadata": {
        "id": "bYXr1uqO5s5R"
      },
      "outputs": [],
      "source": [
        "# Mount Google Drive\n",
        "from google.colab import drive\n",
        "drive.mount('/content/drive')"
      ]
    },
    {
      "cell_type": "code",
      "source": [
        "# Convert results to data frame and save to google drive as csv\n",
        "df = pd.DataFrame(results)\n",
        "csv_path = '/content/drive/My Drive/NINA_ET_test_results/optuna_optimization_NINA_ET.csv'\n",
        "df.to_csv(csv_path, index=False)"
      ],
      "metadata": {
        "id": "LE0eLb4RNtZD"
      },
      "execution_count": null,
      "outputs": []
    }
  ],
  "metadata": {
    "colab": {
      "provenance": [],
      "mount_file_id": "1RNo4Hovv3Ovl5-mbM7CvDiVbcUKT5GgZ",
      "authorship_tag": "ABX9TyM6Hdg2pKZP8oOQI4S8jhQQ",
      "include_colab_link": true
    },
    "kernelspec": {
      "display_name": "Python 3",
      "name": "python3"
    },
    "language_info": {
      "name": "python"
    }
  },
  "nbformat": 4,
  "nbformat_minor": 0
}