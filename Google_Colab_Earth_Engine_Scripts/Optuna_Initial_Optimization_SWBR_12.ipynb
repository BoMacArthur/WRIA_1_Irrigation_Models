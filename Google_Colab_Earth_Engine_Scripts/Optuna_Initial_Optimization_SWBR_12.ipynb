{
  "cells": [
    {
      "cell_type": "markdown",
      "metadata": {
        "id": "view-in-github",
        "colab_type": "text"
      },
      "source": [
        "<a href=\"https://colab.research.google.com/github/BoMacArthur/WRIA_1_Irrigation_Models/blob/main/Google_Colab_Earth_Engine_Scripts/Optuna_Initial_Optimization_SWBR_12.ipynb\" target=\"_parent\"><img src=\"https://colab.research.google.com/assets/colab-badge.svg\" alt=\"Open In Colab\"/></a>"
      ]
    },
    {
      "cell_type": "code",
      "execution_count": null,
      "metadata": {
        "collapsed": true,
        "id": "Zt04Fy88pOHi"
      },
      "outputs": [],
      "source": [
        "! pip install optuna"
      ]
    },
    {
      "cell_type": "code",
      "execution_count": null,
      "metadata": {
        "id": "JkinXbOLJIs1"
      },
      "outputs": [],
      "source": [
        "import ee\n",
        "import geemap\n",
        "import optuna\n",
        "import plotly\n",
        "from plotly.subplots import make_subplots\n",
        "import plotly.graph_objects as go\n",
        "import pickle\n",
        "from google.colab import output"
      ]
    },
    {
      "cell_type": "code",
      "execution_count": null,
      "metadata": {
        "collapsed": true,
        "id": "gwD4fSGVpEyX"
      },
      "outputs": [],
      "source": [
        "cloud_project = 'ee-bomacarthur'\n",
        "\n",
        "try:\n",
        "  ee.Initialize(project=cloud_project)\n",
        "except:\n",
        "  ee.Authenticate()\n",
        "  ee.Initialize(project=cloud_project)\n"
      ]
    },
    {
      "cell_type": "code",
      "execution_count": null,
      "metadata": {
        "collapsed": true,
        "id": "X8PRIE4twicD"
      },
      "outputs": [],
      "source": [
        "m = geemap.Map(width=800)\n",
        "m"
      ]
    },
    {
      "cell_type": "code",
      "execution_count": null,
      "metadata": {
        "id": "CjxE2OGd3eYw"
      },
      "outputs": [],
      "source": [
        "# Bring in the water balance model from Google Earth Engine\n",
        "# Load datasets\n",
        "fields = ee.FeatureCollection(\"projects/ee-bomacarthur/assets/Test_Fields/testFieldsMeterDataArea_4_16_update\")\n",
        "etAndPrcpCol = ee.FeatureCollection(\"projects/ee-bomacarthur/assets/etAndPrcp\")\n",
        "\n",
        "# Sort the et and prcp collection by date\n",
        "et_and_prcp = etAndPrcpCol.sort('system:time_start')\n",
        "\n",
        "# Define the optimization function\n",
        "def water_balance_model(precip_const):\n",
        "\n",
        "   # X Constants\n",
        "    x_constants = ee.FeatureCollection([\n",
        "    ee.Feature(None, {'month': i + 1, 'precipConst': precip_const[i]}) for i in range(12)\n",
        "    ])\n",
        "\n",
        "    # Create a function to calculate monthly Water Balance = P(x) - ET\n",
        "    def calculate_water_balance(image):\n",
        "        month = image.date().get('month')\n",
        "        x_value = x_constants.filter(ee.Filter.eq('month', month)).first().getNumber('precipConst')\n",
        "        precip_effective = image.select('P').multiply(x_value).rename('Peff')\n",
        "        calculate_water_balance = precip_effective.subtract(image.select('ETa')).rename('wb')\n",
        "        return image.addBands(precip_effective).addBands(calculate_water_balance).copyProperties(image, image.propertyNames())\n",
        "\n",
        "    water_balance = ee.ImageCollection(et_and_prcp.filterDate('2011-01-01', '2024-01-01')).map(calculate_water_balance)\n",
        "\n",
        "    # Manually add constant 0 'wbAdjusted' band to first image from Dec 2010\n",
        "    et_and_prcp_first = ee.Image(et_and_prcp.filterDate('2010-12-01', '2011-01-01').first())\n",
        "    first_x_value = x_constants.filter(ee.Filter.eq('month', 12)).first().getNumber('precipConst')\n",
        "    wb_first = et_and_prcp_first.addBands(et_and_prcp_first.select('P').multiply(first_x_value) \\\n",
        "                                .subtract(et_and_prcp_first.select('ETa')).rename('wb'))\n",
        "    first_image = wb_first.addBands(wb_first.select('wb').where(wb_first.select('wb').lt(0), 0).rename('wbRadj'))\n",
        "\n",
        "    # Add stored water from previous month to create monthly adjusted water balance\n",
        "    def add_residuals_function(current, previous):\n",
        "        previous_image = ee.Image(ee.List(previous).get(-1))\n",
        "        current_image = ee.Image(current)\n",
        "        residual_prev_mon = previous_image.select('wbRadj').rename('wbRn1')\n",
        "        residual_ratio_prev_mon = residual_prev_mon.rename('wbRn1Adj')\n",
        "        wb_residual_cur_mon = current_image.select('wb').where(current_image.select('wb').lt(0), 0).unmask().rename('wbR')\n",
        "        wb_adjusted = current_image.select('wb').add(residual_ratio_prev_mon).rename('wbA')\n",
        "        residual_adjusted_cur_mon = wb_adjusted.select('wbA').where(wb_adjusted.select('wbA').lt(0), 0).unmask().rename('wbRadj')\n",
        "\n",
        "        updated_image = current_image.addBands(residual_prev_mon).addBands(residual_ratio_prev_mon) \\\n",
        "                                     .addBands(wb_residual_cur_mon).addBands(wb_adjusted).addBands(residual_adjusted_cur_mon) \\\n",
        "                                     .copyProperties(current_image, current_image.propertyNames())\n",
        "\n",
        "        return ee.List(previous).add(updated_image)\n",
        "    # Iterate the residual function over the water balance image collection\n",
        "    initial_list = ee.List([first_image])\n",
        "    add_residuals = ee.ImageCollection.fromImages(water_balance.iterate(add_residuals_function, initial_list))\n",
        "\n",
        "    # Calculate Zonal Stats for test field polygons\n",
        "    def calculate_zonal_stats(image3):\n",
        "        image_date_start = image3.date()\n",
        "        image_date_end = image_date_start.advance(1, 'month')\n",
        "        fields_filtered = fields.filterDate(image_date_start, image_date_end)\n",
        "        zonal_stats = image3.reduceRegions(**{\n",
        "            'collection': fields_filtered,\n",
        "            'reducer': ee.Reducer.mean(),\n",
        "            'scale': 30,\n",
        "            'crs': 'EPSG:32610',\n",
        "            'tileScale': 16\n",
        "        })\n",
        "        return zonal_stats.map(lambda feature: feature.select(['area', 'endDate', 'ETa', 'groupNumber', 'precipitation', 'precipEffective',\n",
        "                                                             'startDate', 'system:time_end', 'system:time_start', 'wb', 'wbA', 'wbR', 'wbRn1', 'wbRadj',\n",
        "                                                             'wbRn1Adj', 'waterMeterDepth', 'waterMeterVolume']))\n",
        "\n",
        "    zonal_stats = ee.FeatureCollection(add_residuals.filterDate('2011-01-01', '2024-01-01').map(calculate_zonal_stats)).flatten()\n",
        "\n",
        "    # Calculate Model Water Volume\n",
        "\n",
        "    # Filter feature collection for two cases, wbA > 0 and wbA < 0\n",
        "    non_zero_irrigation = zonal_stats.filter(ee.Filter.lt('wbA', 0))\n",
        "    zero_irrigation = zonal_stats.filter(ee.Filter.gte('wbA', 0))\n",
        "\n",
        "    # Fields with positive irrigation wbA < 0\n",
        "    non_zero_irrigation_col = non_zero_irrigation.map(lambda feature: feature.set({\n",
        "        'ETi': feature.getNumber('wbA').abs(),\n",
        "        'waterModelDepth': feature.getNumber('wbA').abs()\n",
        "    }).select(['area', 'endDate', 'ETa', 'ETi', 'groupNumber', 'precipitation', 'precipEffective',\n",
        "               'startDate', 'system:time_end', 'system:time_start', 'wb', 'wbA', 'wbR', 'wbRn1', 'wbRadj',\n",
        "               'wbRn1Adj', 'waterMeterDepth', 'waterMeterVolume', 'waterModelDepth']))\n",
        "\n",
        "    # Fields with zero irrigation wbA >= 0\n",
        "    zero_irrigation_col = zero_irrigation.map(lambda feature: feature.set({\n",
        "        'ETi': 0,\n",
        "        'waterModelDepth': 0\n",
        "    }).select(['area', 'endDate', 'ETa', 'ETi', 'groupNumber', 'precipitation', 'precipEffective',\n",
        "               'startDate', 'system:time_end', 'system:time_start', 'wb', 'wbA', 'wbR', 'wbRn1', 'wbRadj',\n",
        "               'wbRn1Adj', 'waterMeterDepth', 'waterMeterVolume', 'waterModelDepth']))\n",
        "    # Merge feature Collections\n",
        "    merged_collection = ee.FeatureCollection([non_zero_irrigation_col, zero_irrigation_col]).flatten().sort('system:time_start')\n",
        "\n",
        "    # Calculate Model Minus Meter (Predicted - observed)\n",
        "    test_results = merged_collection.map(lambda feature: feature.set({\n",
        "        'meterMinusModelDepth': feature.getNumber('waterMeterDepth').subtract(feature.getNumber('waterModelDepth')),\n",
        "        'meterMinusModelDepthAbs': feature.getNumber('waterMeterDepth').subtract(feature.getNumber('waterModelDepth')).abs()\n",
        "    }).copyProperties(feature))\n",
        "\n",
        "    # Calculate Mean Absolute Error of Depth\n",
        "    mae = test_results.reduceColumns(**{\n",
        "        'reducer': ee.Reducer.sum(),\n",
        "        'selectors': ['meterMinusModelDepthAbs']\n",
        "    }).getNumber('sum').divide(763)\n",
        "\n",
        "    return mae.getInfo()"
      ]
    },
    {
      "cell_type": "code",
      "execution_count": null,
      "metadata": {
        "id": "dj2r9w6hOf70"
      },
      "outputs": [],
      "source": [
        "# Define the optimization function\n",
        "def objective(trial):\n",
        "  # Suggest values for the hyperparameters (month-specific)\n",
        "    precip_const = [trial.suggest_discrete_uniform(f'precip_const_{i+1}', 0.0, 1.0, 0.01) for i in range(12)]\n",
        "\n",
        "    # Call the water balance model with the suggested hyperparameters\n",
        "    mae = water_balance_model(precip_const)\n",
        "\n",
        "    return mae"
      ]
    },
    {
      "cell_type": "code",
      "execution_count": null,
      "metadata": {
        "id": "bYXr1uqO5s5R"
      },
      "outputs": [],
      "source": [
        "# Mount Google Drive\n",
        "from google.colab import drive\n",
        "drive.mount('/content/drive')"
      ]
    },
    {
      "cell_type": "code",
      "execution_count": null,
      "metadata": {
        "id": "0SVKsPHfDr8y"
      },
      "outputs": [],
      "source": [
        "# import the study object from google Drive\n",
        "with open('/content/drive/My Drive/WaterBalanceTestResults/X/optuna_optimization_only_x_updated.pkl', 'rb') as f:\n",
        "    study_only_x_updated = pickle.load(f)"
      ]
    },
    {
      "cell_type": "code",
      "execution_count": null,
      "metadata": {
        "id": "ZC_Aa-91VYsJ"
      },
      "outputs": [],
      "source": [
        "# Create an Optuna study and optimize\n",
        "# storage = optuna.storages.InMemoryStorage()\n",
        "# study_only_x_updated = optuna.create_study(direction='minimize')\n",
        "study_only_x_updated.optimize(objective, n_trials=100)\n",
        "\n",
        "# Print the best hyperparameters and MAE\n",
        "print(\"Best hyperparameters:\", study_only_x_updated.best_params)\n",
        "print(\"Best MAE:\", study_only_x_updated.best_value)"
      ]
    },
    {
      "cell_type": "code",
      "execution_count": null,
      "metadata": {
        "id": "kFCAeTRe-4Cf"
      },
      "outputs": [],
      "source": [
        "# Save the study object to Google Drive\n",
        "with open('/content/drive/My Drive/WaterBalanceTestResults/X/optuna_optimization_only_x_updated.pkl', 'wb') as f:\n",
        "    pickle.dump(study_only_x_updated, f)"
      ]
    },
    {
      "cell_type": "code",
      "execution_count": null,
      "metadata": {
        "id": "fTPCk51TEgW_"
      },
      "outputs": [],
      "source": [
        "# Save file as CSV locally\n",
        "study_only_x_updated.trials_dataframe().to_csv('/content/drive/My Drive/WaterBalanceTestResults/X/optuna_optimization_only_x_updated.csv')"
      ]
    },
    {
      "cell_type": "code",
      "execution_count": null,
      "metadata": {
        "id": "ELcPp77dtdjq"
      },
      "outputs": [],
      "source": [
        "# Get the optimization history plot\n",
        "opt_hist_plot = optuna.visualization.plot_optimization_history(study_only_x_updated)\n",
        "\n",
        "# Adjust the size of the points in the plot\n",
        "for trace in opt_hist_plot.data:\n",
        "    if trace.type == 'scatter':  # Ensure we are modifying the correct trace\n",
        "        trace.marker.size = 3  # Adjust the size of the points\n",
        "\n",
        "# Show the modified plot\n",
        "opt_hist_plot.show()"
      ]
    },
    {
      "cell_type": "code",
      "execution_count": null,
      "metadata": {
        "id": "MUmV-FO9vTsy"
      },
      "outputs": [],
      "source": [
        "# Generate the parameter importance plot\n",
        "importance_plot = optuna.visualization.plot_param_importances(study_only_x_updated)\n",
        "\n",
        "# Define a mapping of old hyperparameter names to new names\n",
        "name_mapping = {\n",
        "    \"precip_const_1\": \"Precip Constant Jan\",\n",
        "    \"precip_const_2\": \"Precip Constant Feb\",\n",
        "    \"precip_const_3\": \"Precip Constant Mar\",\n",
        "    \"precip_const_4\": \"Precip Constant Apr\",\n",
        "    \"precip_const_5\": \"Precip Constant May\",\n",
        "    \"precip_const_6\": \"Precip Constant Jun\",\n",
        "    \"precip_const_7\": \"Precip Constant Jul\",\n",
        "    \"precip_const_8\": \"Precip Constant Aug\",\n",
        "    \"precip_const_9\": \"Precip Constant Sep\",\n",
        "    \"precip_const_10\": \"Precip Constant Oct\",\n",
        "    \"precip_const_11\": \"Precip Constant Nov\",\n",
        "    \"precip_const_12\": \"Precip Constant Dec\"\n",
        "}\n",
        "\n",
        "# Update the x-axis labels in the plot\n",
        "importance_plot.update_yaxes(\n",
        "    ticktext=[name_mapping.get(param, param) for param in importance_plot.data[0].y],  # Update tick labels\n",
        "    tickvals=importance_plot.data[0].y  # Keep the original tick positions\n",
        ")\n",
        "\n",
        "# Show the updated plot\n",
        "importance_plot.show()"
      ]
    },
    {
      "cell_type": "code",
      "execution_count": null,
      "metadata": {
        "id": "fI2j_tkY4R-2"
      },
      "outputs": [],
      "source": [
        "# Generate the parallel coordinate plot\n",
        "parallel_plot = optuna.visualization.plot_parallel_coordinate(study_only_x_updated)\n",
        "\n",
        "# Define the name mapping\n",
        "name_mapping = {\n",
        "    \"precip_const_1\": \"Prcp Const Jan\",\n",
        "    \"precip_const_2\": \"Prcp Const Feb\",\n",
        "    \"precip_const_3\": \"Prcp Const Mar\",\n",
        "    \"precip_const_4\": \"Prcp Const Apr\",\n",
        "    \"precip_const_5\": \"Prcp Const May\",\n",
        "    \"precip_const_6\": \"Prcp Const Jun\",\n",
        "    \"precip_const_7\": \"Prcp Const Jul\",\n",
        "    \"precip_const_8\": \"Prcp Const Aug\",\n",
        "    \"precip_const_9\": \"Prcp Const Sep\",\n",
        "    \"precip_const_10\": \"Prcp Const Oct\",\n",
        "    \"precip_const_11\": \"Prcp Const Nov\",\n",
        "    \"precip_const_12\": \"Prcp Const Dec\"\n",
        "}\n",
        "\n",
        "# Extract the original dimensions (x-axis labels) from the plot\n",
        "original_dimensions = parallel_plot.data[0].dimensions\n",
        "\n",
        "# Debugging: Print the original names to check for mismatches\n",
        "print(\"Original dimension names:\")\n",
        "for dim in original_dimensions:\n",
        "    print(dim.label)\n",
        "\n",
        "# Create a list of new dimension names using the name_mapping\n",
        "new_dimensions = []\n",
        "for dim in original_dimensions:\n",
        "    original_name = dim.label\n",
        "    new_name = name_mapping.get(original_name, original_name)  # Use the mapped name or fallback to original\n",
        "    new_dimensions.append(new_name)\n",
        "\n",
        "# Debugging: Print the new names to verify the mapping\n",
        "# print(\"\\nNew dimension names:\")\n",
        "# for original, new in zip([dim.label for dim in original_dimensions], new_dimensions):\n",
        "#    print(f\"{original} -> {new}\")\n",
        "\n",
        "# Update the x-axis labels in the plot\n",
        "for i, dim in enumerate(parallel_plot.data[0].dimensions):\n",
        "    dim.label = new_dimensions[i]\n",
        "\n",
        "# Update layout for better spacing (optional)\n",
        "parallel_plot.update_layout(\n",
        "    title_text=\"Parallel Coordinate Plot\",  # Add a title to the whole plot\n",
        "    title_x=0.5,  # Center the title\n",
        "    width=1200,  # Adjust width as needed\n",
        "    height=600,  # Adjust height as needed\n",
        ")\n",
        "\n",
        "# Show the updated plot\n",
        "parallel_plot.show()"
      ]
    },
    {
      "cell_type": "code",
      "execution_count": null,
      "metadata": {
        "id": "Xl_eslYPyHaj"
      },
      "outputs": [],
      "source": [
        "emperical_distribution_plot = optuna.visualization.plot_edf(study_only_x_updated)\n",
        "emperical_distribution_plot"
      ]
    }
  ],
  "metadata": {
    "colab": {
      "provenance": [],
      "mount_file_id": "1RNo4Hovv3Ovl5-mbM7CvDiVbcUKT5GgZ",
      "authorship_tag": "ABX9TyNeYLWEx3A87xMMsyS/Mo95",
      "include_colab_link": true
    },
    "kernelspec": {
      "display_name": "Python 3",
      "name": "python3"
    },
    "language_info": {
      "name": "python"
    }
  },
  "nbformat": 4,
  "nbformat_minor": 0
}